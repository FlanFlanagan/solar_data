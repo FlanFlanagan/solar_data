{
 "cells": [
  {
   "cell_type": "code",
   "execution_count": 1,
   "metadata": {},
   "outputs": [],
   "source": [
    "import matplotlib.pyplot as plt\n",
    "import datetime\n",
    "import pytz\n",
    "import numpy as np\n",
    "import os\n",
    "import shutil\n",
    "from pysolar.solar import *"
   ]
  },
  {
   "cell_type": "code",
   "execution_count": 2,
   "metadata": {},
   "outputs": [],
   "source": [
    "def loop():\n",
    "    for k,v in months.items():\n",
    "        m = k\n",
    "        for d in range(v):\n",
    "            day = d+1\n",
    "            for h in range(24):\n",
    "                for mi in range(2):\n",
    "                    date = datetime.datetime(year, m, day, h, mi*30, 0, tzinfo=timezone)\n",
    "                    times.append(date)\n",
    "                    deg = get_altitude(lat, lon, date)\n",
    "                    if deg < 0:\n",
    "                        deg = 0\n",
    "                    degs.append(deg)\n",
    "                    rads.append(1361.*np.sin(np.pi*deg/180.))\n",
    "\n",
    "months = {1:31, 2:28, 3:31, 4:30, 5:31, 6:30, 7:31, 8:31, 9:30, 10:31, 11:30, 12:31}"
   ]
  },
  {
   "cell_type": "code",
   "execution_count": 7,
   "metadata": {},
   "outputs": [],
   "source": [
    "filenames = ['2014', '2015', '2016', '2017', '2018']\n",
    "for filename in filenames:\n",
    "    with open(filename+'.csv', 'r') as f:\n",
    "        lines = f.readlines()\n",
    "    line1 = lines[1].split(',')\n",
    "    lat, lon, tz = float(line1[5]), float(line1[6]), -1*int(line1[7])\n",
    "    year = int(lines[3].split(',')[0])\n",
    "    GHI, DNI = [], []\n",
    "    for line in lines[3:len(lines)]:\n",
    "        line = line.split(',')\n",
    "        GHI.append(float(line[5]))\n",
    "    times = []\n",
    "    degs = []\n",
    "    rads = []\n",
    "    timezone = pytz.timezone('Etc/GMT+'+str(tz))\n",
    "    loop()\n",
    "    rads = np.array(rads, dtype=float)\n",
    "    GHI = np.array(GHI, dtype=float)\n",
    "    test = rads - GHI\n",
    "    normed = np.divide(test, rads, out=np.zeros_like(test), where=rads!=0)\n",
    "    dirr = os.path.join('/home/robert/solar_data',filename)\n",
    "    dir1 = os.path.join('/home/robert/solar_data',filename,'noise')\n",
    "    dir2 = os.path.join('/home/robert/solar_data',filename,'full')\n",
    "    dir3 = os.path.join('/home/robert/solar_data',filename,'normed')\n",
    "    if not os.path.exists(dirr):\n",
    "        os.mkdir(dirr)\n",
    "    if not os.path.exists(dir1):\n",
    "        os.mkdir(dir1)\n",
    "    if not os.path.exists(dir2):\n",
    "        os.mkdir(dir2)\n",
    "    if not os.path.exists(dir3):\n",
    "        os.mkdir(dir3)\n",
    "    with open(dir2+'/'+filename+'_full.csv', 'w') as g:\n",
    "        g.write('Time,Value\\n')\n",
    "        for i in range(len(GHI)):\n",
    "            g.write(str(i) + \",\" + str(GHI[i])+'\\n')\n",
    "    with open(dir1+'/'+filename+'_noise.csv', 'w') as g:\n",
    "        g.write('Time,Value\\n')\n",
    "        for i in range(len(test)):\n",
    "            g.write(str(i) + \",\" + str(test[i])+'\\n')\n",
    "    with open(dir3+'/'+filename+'_normed.csv', 'w') as g:\n",
    "        g.write('Time,Value\\n')\n",
    "        for i in range(len(normed)):\n",
    "            g.write(str(i) + \",\" + str(normed[i])+'\\n')\n",
    "    with open(dir3+'/'+'dataSet3.csv', 'w') as c:\n",
    "        c.write('scaling,filename\\n')\n",
    "        c.write('1,'+filename+'_normed.csv')            \n",
    "    with open(dir2+'/'+'dataSet2.csv', 'w') as c:\n",
    "        c.write('scaling,filename\\n')\n",
    "        c.write('1,'+filename+'_full.csv')\n",
    "    with open(dir1+'/'+'dataSet1.csv', 'w') as c:\n",
    "        c.write('scaling,filename\\n')\n",
    "        c.write('1,'+filename+'_noise.csv')\n",
    "    source1 = '/home/robert/solar_data/noise.xml'\n",
    "    source2 = '/home/robert/solar_data/full.xml'\n",
    "    source3 = '/home/robert/solar_data/normed.xml'\n",
    "    dest1 = dir1+'/noise.xml'\n",
    "    dest2 = dir2+'/full.xml'\n",
    "    dest3 = dir3+'/normed.xml'\n",
    "    shutil.copyfile(source1, dest1)\n",
    "    shutil.copyfile(source2, dest2)\n",
    "    shutil.copyfile(source3, dest3)"
   ]
  },
  {
   "cell_type": "code",
   "execution_count": 8,
   "metadata": {},
   "outputs": [],
   "source": [
    "import subprocess\n",
    "for filename in filenames:\n",
    "    heading1 = '/home/robert/solar_data/'+filename+'/full/full.xml'\n",
    "    heading2 = '/home/robert/solar_data/'+filename+'/noise/noise.xml'\n",
    "    heading3 = '/home/robert/solar_data/'+filename+'/normed/normed.xml'\n",
    "    process1 = subprocess.Popen(['raven_framework', heading1])\n",
    "    process2 = subprocess.Popen(['raven_framework', heading2])\n",
    "    process3 = subprocess.Popen(['raven_framework', heading3])"
   ]
  },
  {
   "cell_type": "code",
   "execution_count": null,
   "metadata": {},
   "outputs": [],
   "source": [
    "plt.plot(test)"
   ]
  },
  {
   "cell_type": "code",
   "execution_count": null,
   "metadata": {},
   "outputs": [],
   "source": [
    "import numpy.fft as fft\n",
    "fast = fft.fft(test)\n",
    "l = int(17520/2)\n",
    "fast = abs(fast[:l])"
   ]
  },
  {
   "cell_type": "code",
   "execution_count": null,
   "metadata": {},
   "outputs": [],
   "source": [
    "p = fft.fftfreq(l, 1/1800)\n",
    "plt.plot(p, abs(fast)/17520)"
   ]
  },
  {
   "cell_type": "code",
   "execution_count": null,
   "metadata": {},
   "outputs": [],
   "source": []
  },
  {
   "cell_type": "code",
   "execution_count": null,
   "metadata": {},
   "outputs": [],
   "source": []
  },
  {
   "cell_type": "code",
   "execution_count": null,
   "metadata": {},
   "outputs": [],
   "source": []
  }
 ],
 "metadata": {
  "kernelspec": {
   "display_name": "Python 3",
   "language": "python",
   "name": "python3"
  },
  "language_info": {
   "codemirror_mode": {
    "name": "ipython",
    "version": 3
   },
   "file_extension": ".py",
   "mimetype": "text/x-python",
   "name": "python",
   "nbconvert_exporter": "python",
   "pygments_lexer": "ipython3",
   "version": "3.7.3"
  }
 },
 "nbformat": 4,
 "nbformat_minor": 2
}
